{
 "cells": [
  {
   "cell_type": "code",
   "execution_count": 2,
   "metadata": {},
   "outputs": [],
   "source": [
    "import pandas as pd\n",
    "from sqlalchemy import create_engine"
   ]
  },
  {
   "cell_type": "code",
   "execution_count": 3,
   "metadata": {},
   "outputs": [],
   "source": [
    "YOUR_AWS_URL = \"ec2-16-162-220-1.ap-east-1.compute.amazonaws.com\"\n",
    "DATABASE_URL = f\"postgresql://dhg503:dhg503dhg503@{YOUR_AWS_URL}:54503/dhg503\"\n",
    "\n",
    "engine = create_engine(DATABASE_URL)"
   ]
  },
  {
   "cell_type": "code",
   "execution_count": 5,
   "metadata": {},
   "outputs": [
    {
     "data": {
      "text/html": [
       "<div>\n",
       "<style scoped>\n",
       "    .dataframe tbody tr th:only-of-type {\n",
       "        vertical-align: middle;\n",
       "    }\n",
       "\n",
       "    .dataframe tbody tr th {\n",
       "        vertical-align: top;\n",
       "    }\n",
       "\n",
       "    .dataframe thead th {\n",
       "        text-align: right;\n",
       "    }\n",
       "</style>\n",
       "<table border=\"1\" class=\"dataframe\">\n",
       "  <thead>\n",
       "    <tr style=\"text-align: right;\">\n",
       "      <th></th>\n",
       "      <th>id</th>\n",
       "      <th>title</th>\n",
       "      <th>year</th>\n",
       "      <th>date</th>\n",
       "      <th>content</th>\n",
       "      <th>king</th>\n",
       "    </tr>\n",
       "  </thead>\n",
       "  <tbody>\n",
       "    <tr>\n",
       "      <th>0</th>\n",
       "      <td>625</td>\n",
       "      <td>憲宗純皇帝實錄 卷一百十五 成化九年 四月 二十一日</td>\n",
       "      <td>1473</td>\n",
       "      <td>成化九年 四月 二十一日</td>\n",
       "      <td>○詔修南京功臣廟殿廡門庫房屋七十六間并祭器之不堪供祀者從南京守備參贊等官議也</td>\n",
       "      <td>憲宗純皇帝</td>\n",
       "    </tr>\n",
       "    <tr>\n",
       "      <th>1</th>\n",
       "      <td>626</td>\n",
       "      <td>太祖高皇帝實錄 卷二百四十五 洪武二十九年 三月 三日</td>\n",
       "      <td>1396</td>\n",
       "      <td>洪武二十九年 三月 三日</td>\n",
       "      <td>○庚申命中軍都督府都督僉事朱信前軍都督府都督僉事宣信總神策橫海蘇州等太倉等四十衛將士八萬餘人...</td>\n",
       "      <td>太祖高皇帝</td>\n",
       "    </tr>\n",
       "    <tr>\n",
       "      <th>2</th>\n",
       "      <td>627</td>\n",
       "      <td>憲宗純皇帝實錄 卷三十二 成化二年 七月 十七日</td>\n",
       "      <td>1466</td>\n",
       "      <td>成化二年 七月 十七日</td>\n",
       "      <td>○丙戌禮科給事中樊冕樊冕:廣本冕作晃。九年考滿陞本科都給事中都給事中:抱本脫中以上十三字。</td>\n",
       "      <td>憲宗純皇帝</td>\n",
       "    </tr>\n",
       "    <tr>\n",
       "      <th>3</th>\n",
       "      <td>628</td>\n",
       "      <td>憲宗純皇帝實錄 卷二百六十八 成化二十一年 七月 四日</td>\n",
       "      <td>1485</td>\n",
       "      <td>成化二十一年 七月 四日</td>\n",
       "      <td>壬子　仁孝文皇后忌辰　奉先殿行祭禮遣駙馬都尉樊凱祭　長陵</td>\n",
       "      <td>憲宗純皇帝</td>\n",
       "    </tr>\n",
       "    <tr>\n",
       "      <th>4</th>\n",
       "      <td>629</td>\n",
       "      <td>太祖高皇帝實錄 卷三 乙未歲 十二月 一日</td>\n",
       "      <td>1355</td>\n",
       "      <td>乙未歲 十二月 一日</td>\n",
       "      <td>冬十二月壬子朔釋元萬戶納哈出北歸納哈出者木華黎裔孫也木華黎裔孫也:明史馮勝傳同。抱本裔作嫡。...</td>\n",
       "      <td>太祖高皇帝</td>\n",
       "    </tr>\n",
       "    <tr>\n",
       "      <th>...</th>\n",
       "      <td>...</td>\n",
       "      <td>...</td>\n",
       "      <td>...</td>\n",
       "      <td>...</td>\n",
       "      <td>...</td>\n",
       "      <td>...</td>\n",
       "    </tr>\n",
       "    <tr>\n",
       "      <th>95</th>\n",
       "      <td>720</td>\n",
       "      <td>太宗文皇帝實錄 卷二百六十六 永樂二十一年 十二月 十九日</td>\n",
       "      <td>1423</td>\n",
       "      <td>永樂二十一年 十二月 十九日</td>\n",
       "      <td>○丙寅○乞列馬尼池面乞列馬尼池面:廣本抱本池作地，是也。回回阿卜都那迷并岷州衛番僧堅藏曼即堅...</td>\n",
       "      <td>太宗文皇帝</td>\n",
       "    </tr>\n",
       "    <tr>\n",
       "      <th>96</th>\n",
       "      <td>721</td>\n",
       "      <td>世宗肅皇帝實錄 卷一百 嘉靖八年 四月 十一日</td>\n",
       "      <td>1529</td>\n",
       "      <td>嘉靖八年 四月 十一日</td>\n",
       "      <td>○大理寺卿陳璋以病乞休詔許回籍調治仍給驛歸</td>\n",
       "      <td>世宗肅皇帝</td>\n",
       "    </tr>\n",
       "    <tr>\n",
       "      <th>97</th>\n",
       "      <td>722</td>\n",
       "      <td>太宗文皇帝實錄 卷二十三 永樂元年 九月 十七日</td>\n",
       "      <td>1403</td>\n",
       "      <td>永樂元年 九月 十七日</td>\n",
       "      <td>○壬辰脩鳳陽　皇陵殿廡</td>\n",
       "      <td>太宗文皇帝</td>\n",
       "    </tr>\n",
       "    <tr>\n",
       "      <th>98</th>\n",
       "      <td>723</td>\n",
       "      <td>世宗肅皇帝實錄 卷五百三 嘉靖四十年 十一月 十七日</td>\n",
       "      <td>1561</td>\n",
       "      <td>嘉靖四十年 十一月 十七日</td>\n",
       "      <td>○癸卯陞順天府尹呂時中為戶部右侍郎總督倉塲督理西苑農事</td>\n",
       "      <td>世宗肅皇帝</td>\n",
       "    </tr>\n",
       "    <tr>\n",
       "      <th>99</th>\n",
       "      <td>724</td>\n",
       "      <td>太祖高皇帝實錄 卷六十四 洪武四年 四月 二十九日</td>\n",
       "      <td>1371</td>\n",
       "      <td>洪武四年 四月 二十九日</td>\n",
       "      <td>○以王廉為澠池縣丞澠池之境舊有虎害耕夫行旅甚苦之廉至為文告城隍之神詞甚激切已而虎遂絕迹廉處州...</td>\n",
       "      <td>太祖高皇帝</td>\n",
       "    </tr>\n",
       "  </tbody>\n",
       "</table>\n",
       "<p>100 rows × 6 columns</p>\n",
       "</div>"
      ],
      "text/plain": [
       "     id                           title  year            date  \\\n",
       "0   625     憲宗純皇帝實錄 卷一百十五 成化九年 四月 二十一日   1473    成化九年 四月 二十一日   \n",
       "1   626    太祖高皇帝實錄 卷二百四十五 洪武二十九年 三月 三日   1396    洪武二十九年 三月 三日   \n",
       "2   627       憲宗純皇帝實錄 卷三十二 成化二年 七月 十七日   1466     成化二年 七月 十七日   \n",
       "3   628    憲宗純皇帝實錄 卷二百六十八 成化二十一年 七月 四日   1485    成化二十一年 七月 四日   \n",
       "4   629          太祖高皇帝實錄 卷三 乙未歲 十二月 一日   1355      乙未歲 十二月 一日   \n",
       "..  ...                             ...   ...             ...   \n",
       "95  720  太宗文皇帝實錄 卷二百六十六 永樂二十一年 十二月 十九日   1423  永樂二十一年 十二月 十九日   \n",
       "96  721        世宗肅皇帝實錄 卷一百 嘉靖八年 四月 十一日   1529     嘉靖八年 四月 十一日   \n",
       "97  722       太宗文皇帝實錄 卷二十三 永樂元年 九月 十七日   1403     永樂元年 九月 十七日   \n",
       "98  723     世宗肅皇帝實錄 卷五百三 嘉靖四十年 十一月 十七日   1561   嘉靖四十年 十一月 十七日   \n",
       "99  724      太祖高皇帝實錄 卷六十四 洪武四年 四月 二十九日   1371    洪武四年 四月 二十九日   \n",
       "\n",
       "                                              content   king  \n",
       "0              ○詔修南京功臣廟殿廡門庫房屋七十六間并祭器之不堪供祀者從南京守備參贊等官議也  憲宗純皇帝  \n",
       "1   ○庚申命中軍都督府都督僉事朱信前軍都督府都督僉事宣信總神策橫海蘇州等太倉等四十衛將士八萬餘人...  太祖高皇帝  \n",
       "2       ○丙戌禮科給事中樊冕樊冕:廣本冕作晃。九年考滿陞本科都給事中都給事中:抱本脫中以上十三字。  憲宗純皇帝  \n",
       "3                        壬子　仁孝文皇后忌辰　奉先殿行祭禮遣駙馬都尉樊凱祭　長陵  憲宗純皇帝  \n",
       "4   冬十二月壬子朔釋元萬戶納哈出北歸納哈出者木華黎裔孫也木華黎裔孫也:明史馮勝傳同。抱本裔作嫡。...  太祖高皇帝  \n",
       "..                                                ...    ...  \n",
       "95  ○丙寅○乞列馬尼池面乞列馬尼池面:廣本抱本池作地，是也。回回阿卜都那迷并岷州衛番僧堅藏曼即堅...  太宗文皇帝  \n",
       "96                              ○大理寺卿陳璋以病乞休詔許回籍調治仍給驛歸  世宗肅皇帝  \n",
       "97                                        ○壬辰脩鳳陽　皇陵殿廡  太宗文皇帝  \n",
       "98                        ○癸卯陞順天府尹呂時中為戶部右侍郎總督倉塲督理西苑農事  世宗肅皇帝  \n",
       "99  ○以王廉為澠池縣丞澠池之境舊有虎害耕夫行旅甚苦之廉至為文告城隍之神詞甚激切已而虎遂絕迹廉處州...  太祖高皇帝  \n",
       "\n",
       "[100 rows x 6 columns]"
      ]
     },
     "execution_count": 5,
     "metadata": {},
     "output_type": "execute_result"
    }
   ],
   "source": [
    "mqshilu = pd.read_sql(\"SELECT * FROM mqshilu LIMIT 100\", engine)\n",
    "mqshilu"
   ]
  },
  {
   "cell_type": "code",
   "execution_count": 6,
   "metadata": {},
   "outputs": [
    {
     "data": {
      "text/html": [
       "<div>\n",
       "<style scoped>\n",
       "    .dataframe tbody tr th:only-of-type {\n",
       "        vertical-align: middle;\n",
       "    }\n",
       "\n",
       "    .dataframe tbody tr th {\n",
       "        vertical-align: top;\n",
       "    }\n",
       "\n",
       "    .dataframe thead th {\n",
       "        text-align: right;\n",
       "    }\n",
       "</style>\n",
       "<table border=\"1\" class=\"dataframe\">\n",
       "  <thead>\n",
       "    <tr style=\"text-align: right;\">\n",
       "      <th></th>\n",
       "      <th>id</th>\n",
       "      <th>title</th>\n",
       "      <th>year</th>\n",
       "      <th>date</th>\n",
       "      <th>content</th>\n",
       "    </tr>\n",
       "  </thead>\n",
       "  <tbody>\n",
       "    <tr>\n",
       "      <th>0</th>\n",
       "      <td>1</td>\n",
       "      <td>學而</td>\n",
       "      <td>2025</td>\n",
       "      <td>2025-01-01</td>\n",
       "      <td>學而時習之，不亦說乎？有朋自遠方來，不亦樂乎？人不知而不慍，不亦君子乎？</td>\n",
       "    </tr>\n",
       "    <tr>\n",
       "      <th>1</th>\n",
       "      <td>2</td>\n",
       "      <td>為政</td>\n",
       "      <td>2025</td>\n",
       "      <td>2025-01-01</td>\n",
       "      <td>為政以德，譬如北辰，居其所而眾星共之</td>\n",
       "    </tr>\n",
       "  </tbody>\n",
       "</table>\n",
       "</div>"
      ],
      "text/plain": [
       "   id title  year        date                               content\n",
       "0   1    學而  2025  2025-01-01  學而時習之，不亦說乎？有朋自遠方來，不亦樂乎？人不知而不慍，不亦君子乎？\n",
       "1   2    為政  2025  2025-01-01                    為政以德，譬如北辰，居其所而眾星共之"
      ]
     },
     "execution_count": 6,
     "metadata": {},
     "output_type": "execute_result"
    }
   ],
   "source": [
    "mytable = pd.read_sql(\"SELECT * FROM mytable \", engine)\n",
    "mytable"
   ]
  },
  {
   "cell_type": "code",
   "execution_count": 10,
   "metadata": {},
   "outputs": [],
   "source": [
    "new_data = [\n",
    "    {\n",
    "        \"id\": 3,\n",
    "        \"title\": \"八佾\",\n",
    "        \"year\": 2025,\n",
    "        \"date\": \"2025-01-02\",\n",
    "        \"content\": \"孔子謂季氏：「八佾舞於庭，是可忍也，孰不可忍也？」\",\n",
    "    },\n",
    "    {\n",
    "        \"id\": 4,\n",
    "        \"title\": \"里仁\",\n",
    "        \"year\": 2025,\n",
    "        \"date\": \"2025-01-03\",\n",
    "        \"content\": \"君子去仁，惡乎成名？君子無終食之間違仁，造次必於是，顛沛必於是。\",\n",
    "    },\n",
    "    {\n",
    "        \"id\": 5,\n",
    "        \"title\": \"公冶長\",\n",
    "        \"year\": 2025,\n",
    "        \"date\": \"2025-01-04\",\n",
    "        \"content\": \"子謂公冶長，「可妻也。雖在縲絏之中，非其罪也」。以其子妻之。\",\n",
    "    },\n",
    "]\n",
    "new_mytable = pd.DataFrame(new_data)"
   ]
  },
  {
   "cell_type": "markdown",
   "metadata": {},
   "source": [
    "## Upload new data to the database `mytable` table.\n"
   ]
  },
  {
   "cell_type": "markdown",
   "metadata": {},
   "source": [
    "### Option 1: Merge new data with existing data and upload to the database\n"
   ]
  },
  {
   "cell_type": "code",
   "execution_count": 11,
   "metadata": {},
   "outputs": [
    {
     "data": {
      "text/plain": [
       "5"
      ]
     },
     "execution_count": 11,
     "metadata": {},
     "output_type": "execute_result"
    }
   ],
   "source": [
    "new_mytable = pd.concat([mytable, new_mytable])\n",
    "new_mytable.to_sql(\"mytable\", engine, if_exists=\"replace\", index=False)"
   ]
  },
  {
   "cell_type": "markdown",
   "metadata": {},
   "source": [
    "### Option 2: Append new data to the database\n"
   ]
  },
  {
   "cell_type": "code",
   "execution_count": 8,
   "metadata": {},
   "outputs": [],
   "source": [
    "new_mytable.to_sql(\"mytable\", engine, if_exists=\"append\", index=False)"
   ]
  },
  {
   "cell_type": "markdown",
   "metadata": {},
   "source": [
    "### Option 3: Replace the existing data\n"
   ]
  },
  {
   "cell_type": "code",
   "execution_count": null,
   "metadata": {},
   "outputs": [],
   "source": [
    "new_mytable.to_sql(\"mytable\", engine, if_exists=\"replace\", index=False)"
   ]
  },
  {
   "cell_type": "code",
   "execution_count": null,
   "metadata": {},
   "outputs": [],
   "source": []
  }
 ],
 "metadata": {
  "kernelspec": {
   "display_name": ".venv",
   "language": "python",
   "name": "python3"
  },
  "language_info": {
   "codemirror_mode": {
    "name": "ipython",
    "version": 3
   },
   "file_extension": ".py",
   "mimetype": "text/x-python",
   "name": "python",
   "nbconvert_exporter": "python",
   "pygments_lexer": "ipython3",
   "version": "3.11.10"
  }
 },
 "nbformat": 4,
 "nbformat_minor": 2
}
