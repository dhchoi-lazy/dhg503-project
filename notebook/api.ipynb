{
 "cells": [
  {
   "cell_type": "code",
   "execution_count": 42,
   "metadata": {},
   "outputs": [],
   "source": [
    "import requests\n",
    "import pprint\n",
    "from PIL import Image\n",
    "from IPython.display import display\n",
    "from io import BytesIO"
   ]
  },
  {
   "cell_type": "code",
   "execution_count": null,
   "metadata": {},
   "outputs": [],
   "source": [
    "hello = requests.get(\"http://localhost:8000/\").json()\n",
    "print(hello)"
   ]
  },
  {
   "cell_type": "code",
   "execution_count": null,
   "metadata": {},
   "outputs": [],
   "source": [
    "student = requests.get(\n",
    "    \"http://localhost:8000/students/?student_id=20092396&age=20&name=dhchoi\"\n",
    ").text\n",
    "print(student)"
   ]
  },
  {
   "cell_type": "code",
   "execution_count": 21,
   "metadata": {},
   "outputs": [],
   "source": [
    "login_get = requests.get(\n",
    "    \"http://localhost:8000/login?username=dhchoi&password=1234\"\n",
    ").json()"
   ]
  },
  {
   "cell_type": "code",
   "execution_count": null,
   "metadata": {},
   "outputs": [],
   "source": [
    "print(login_get)\n",
    "login_post = requests.post(\n",
    "    \"http://localhost:8000/login\", json={\"username\": \"dhchoi\", \"password\": \"1234\"}\n",
    ").json()\n",
    "print(login_post)"
   ]
  },
  {
   "cell_type": "code",
   "execution_count": 23,
   "metadata": {},
   "outputs": [],
   "source": [
    "url = \"https://www.youtube.com/watch?v=1RKqOmSkGgM\"\n",
    "video = requests.get(f\"http://localhost:8000/youtube/?url={url}\")\n",
    "with open(\"video.mp4\", \"wb\") as f:\n",
    "    f.write(video.content)"
   ]
  },
  {
   "cell_type": "markdown",
   "metadata": {},
   "source": [
    "## REST Countries API\n"
   ]
  },
  {
   "cell_type": "code",
   "execution_count": null,
   "metadata": {},
   "outputs": [],
   "source": [
    "country_name = \"hong kong\"\n",
    "url = f\"https://restcountries.com/v3.1/name/{country_name}\"\n",
    "country_info = requests.get(url).json()\n",
    "pprint.pprint(country_info)"
   ]
  },
  {
   "cell_type": "markdown",
   "metadata": {},
   "source": [
    "## The Dog API\n"
   ]
  },
  {
   "cell_type": "code",
   "execution_count": null,
   "metadata": {},
   "outputs": [],
   "source": [
    "headers = {\n",
    "    \"x-api-key\": \"live_o12h7plfluPDvT8rd2mWgNOirYbSniVueiPuRTcphc8jvJR9bqV1r0M6NHZA2qiZ\"\n",
    "}\n",
    "url = \"https://api.thedogapi.com/v1/images/search?size=med&mime_types=jpg&has_breeds=true&order=RANDOM&page=0&limit=1\"\n",
    "\n",
    "# Fetch the JSON data from the API\n",
    "response = requests.get(url, headers=headers)\n",
    "data = response.json()\n",
    "\n",
    "# Extract the image URL from the JSON response\n",
    "img_url = data[0][\"url\"]\n",
    "\n",
    "# Now, fetch the image content using the extracted URL\n",
    "img_response = requests.get(img_url)\n",
    "img = Image.open(BytesIO(img_response.content))\n",
    "\n",
    "# Display the image in the notebook\n",
    "display(img)"
   ]
  }
 ],
 "metadata": {
  "kernelspec": {
   "display_name": ".venv",
   "language": "python",
   "name": "python3"
  },
  "language_info": {
   "codemirror_mode": {
    "name": "ipython",
    "version": 3
   },
   "file_extension": ".py",
   "mimetype": "text/x-python",
   "name": "python",
   "nbconvert_exporter": "python",
   "pygments_lexer": "ipython3",
   "version": "3.11.10"
  }
 },
 "nbformat": 4,
 "nbformat_minor": 2
}
